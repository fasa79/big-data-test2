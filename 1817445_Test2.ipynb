{
 "cells": [
  {
   "cell_type": "markdown",
   "id": "c700c4d8",
   "metadata": {},
   "source": [
    "    Name: FADHLUDDIN BIN SAHLAN\n",
    "    Matric No: 1817445\n",
    "    Test 2"
   ]
  },
  {
   "cell_type": "code",
   "execution_count": 1,
   "id": "26a66f78",
   "metadata": {},
   "outputs": [],
   "source": [
    "import findspark\n",
    "findspark.init()\n",
    "\n",
    "import pyspark\n",
    "from pyspark import SparkConf\n",
    "from pyspark.sql import SparkSession"
   ]
  },
  {
   "cell_type": "markdown",
   "id": "34c8ac63",
   "metadata": {},
   "source": [
    "IMPORT PANDAS AND MATPLOTLIB FOR PURPOSE OF VISUALIZATION ONLY"
   ]
  },
  {
   "cell_type": "code",
   "execution_count": 63,
   "id": "dc5f278c",
   "metadata": {},
   "outputs": [],
   "source": [
    "import pandas as pd\n",
    "import matplotlib.pyplot as plot"
   ]
  },
  {
   "cell_type": "markdown",
   "id": "e56d59fc",
   "metadata": {},
   "source": [
    "STARTING SPARK SESSION"
   ]
  },
  {
   "cell_type": "code",
   "execution_count": 2,
   "id": "2ed34516",
   "metadata": {},
   "outputs": [],
   "source": [
    "spark = SparkSession\\\n",
    "        .builder\\\n",
    "        .appName(\"Test2\")\\\n",
    "        .getOrCreate()"
   ]
  },
  {
   "cell_type": "code",
   "execution_count": 3,
   "id": "8e070a3f",
   "metadata": {},
   "outputs": [
    {
     "data": {
      "text/plain": [
       "[('spark.app.id', 'local-1623224262335'),\n",
       " ('spark.app.startTime', '1623224259705'),\n",
       " ('spark.driver.port', '49958'),\n",
       " ('spark.rdd.compress', 'True'),\n",
       " ('spark.serializer.objectStreamReset', '100'),\n",
       " ('spark.driver.host', 'DESKTOP-6LUOD3E'),\n",
       " ('spark.master', 'local[*]'),\n",
       " ('spark.submit.pyFiles', ''),\n",
       " ('spark.executor.id', 'driver'),\n",
       " ('spark.submit.deployMode', 'client'),\n",
       " ('spark.sql.warehouse.dir',\n",
       "  'file:/C:/Users/YS/Jupyter%20Notebook/Test2/spark-warehouse'),\n",
       " ('spark.app.name', 'Test2'),\n",
       " ('spark.ui.showConsoleProgress', 'true')]"
      ]
     },
     "execution_count": 3,
     "metadata": {},
     "output_type": "execute_result"
    }
   ],
   "source": [
    "spark.sparkContext.getConf().getAll()"
   ]
  },
  {
   "cell_type": "code",
   "execution_count": 4,
   "id": "43583079",
   "metadata": {},
   "outputs": [
    {
     "data": {
      "text/html": [
       "\n",
       "            <div>\n",
       "                <p><b>SparkSession - in-memory</b></p>\n",
       "                \n",
       "        <div>\n",
       "            <p><b>SparkContext</b></p>\n",
       "\n",
       "            <p><a href=\"http://DESKTOP-6LUOD3E:4041\">Spark UI</a></p>\n",
       "\n",
       "            <dl>\n",
       "              <dt>Version</dt>\n",
       "                <dd><code>v3.1.1</code></dd>\n",
       "              <dt>Master</dt>\n",
       "                <dd><code>local[*]</code></dd>\n",
       "              <dt>AppName</dt>\n",
       "                <dd><code>Test2</code></dd>\n",
       "            </dl>\n",
       "        </div>\n",
       "        \n",
       "            </div>\n",
       "        "
      ],
      "text/plain": [
       "<pyspark.sql.session.SparkSession at 0x1aeb6461a60>"
      ]
     },
     "execution_count": 4,
     "metadata": {},
     "output_type": "execute_result"
    }
   ],
   "source": [
    "spark"
   ]
  },
  {
   "cell_type": "markdown",
   "id": "d34960b6",
   "metadata": {},
   "source": [
    "# Explore the Datasets"
   ]
  },
  {
   "cell_type": "code",
   "execution_count": 47,
   "id": "4ec2987b",
   "metadata": {},
   "outputs": [],
   "source": [
    "df_demo = spark.read.csv(\"survey data demographics.csv\", header=True)\n",
    "df_tech = spark.read.csv(\"survey data technologies normalised.csv\", header=True)"
   ]
  },
  {
   "cell_type": "code",
   "execution_count": 10,
   "id": "be59bace",
   "metadata": {},
   "outputs": [
    {
     "name": "stdout",
     "output_type": "stream",
     "text": [
      "root\n",
      " |-- Respondent: string (nullable = true)\n",
      " |-- MainBranch: string (nullable = true)\n",
      " |-- Hobbyist: string (nullable = true)\n",
      " |-- OpenSourcer: string (nullable = true)\n",
      " |-- OpenSource: string (nullable = true)\n",
      " |-- Employment: string (nullable = true)\n",
      " |-- Country: string (nullable = true)\n",
      " |-- Student: string (nullable = true)\n",
      " |-- EdLevel: string (nullable = true)\n",
      " |-- UndergradMajor: string (nullable = true)\n",
      " |-- EduOther: string (nullable = true)\n",
      " |-- OrgSize: string (nullable = true)\n",
      " |-- DevType: string (nullable = true)\n",
      " |-- YearsCode: string (nullable = true)\n",
      " |-- Age1stCode: string (nullable = true)\n",
      " |-- YearsCodePro: string (nullable = true)\n",
      " |-- CareerSat: string (nullable = true)\n",
      " |-- JobSat: string (nullable = true)\n",
      " |-- MgrIdiot: string (nullable = true)\n",
      " |-- MgrMoney: string (nullable = true)\n",
      " |-- MgrWant: string (nullable = true)\n",
      " |-- JobSeek: string (nullable = true)\n",
      " |-- LastHireDate: string (nullable = true)\n",
      " |-- LastInt: string (nullable = true)\n",
      " |-- FizzBuzz: string (nullable = true)\n",
      " |-- JobFactors: string (nullable = true)\n",
      " |-- ResumeUpdate: string (nullable = true)\n",
      " |-- CurrencySymbol: string (nullable = true)\n",
      " |-- CurrencyDesc: string (nullable = true)\n",
      " |-- CompTotal: string (nullable = true)\n",
      " |-- CompFreq: string (nullable = true)\n",
      " |-- ConvertedComp: string (nullable = true)\n",
      " |-- WorkWeekHrs: string (nullable = true)\n",
      " |-- WorkPlan: string (nullable = true)\n",
      " |-- WorkChallenge: string (nullable = true)\n",
      " |-- WorkRemote: string (nullable = true)\n",
      " |-- WorkLoc: string (nullable = true)\n",
      " |-- ImpSyn: string (nullable = true)\n",
      " |-- CodeRev: string (nullable = true)\n",
      " |-- CodeRevHrs: string (nullable = true)\n",
      " |-- UnitTests: string (nullable = true)\n",
      " |-- PurchaseHow: string (nullable = true)\n",
      " |-- PurchaseWhat: string (nullable = true)\n",
      " |-- BetterLife: string (nullable = true)\n",
      " |-- ITperson: string (nullable = true)\n",
      " |-- OffOn: string (nullable = true)\n",
      " |-- SocialMedia: string (nullable = true)\n",
      " |-- Extraversion: string (nullable = true)\n",
      " |-- ScreenName: string (nullable = true)\n",
      " |-- SOVisit1st: string (nullable = true)\n",
      " |-- SOVisitFreq: string (nullable = true)\n",
      " |-- SOVisitTo: string (nullable = true)\n",
      " |-- SOFindAnswer: string (nullable = true)\n",
      " |-- SOTimeSaved: string (nullable = true)\n",
      " |-- SOHowMuchTime: string (nullable = true)\n",
      " |-- SOAccount: string (nullable = true)\n",
      " |-- SOPartFreq: string (nullable = true)\n",
      " |-- SOJobs: string (nullable = true)\n",
      " |-- EntTeams: string (nullable = true)\n",
      " |-- SOComm: string (nullable = true)\n",
      " |-- WelcomeChange: string (nullable = true)\n",
      " |-- SONewContent: string (nullable = true)\n",
      " |-- Age: string (nullable = true)\n",
      " |-- Gender: string (nullable = true)\n",
      " |-- Trans: string (nullable = true)\n",
      " |-- Sexuality: string (nullable = true)\n",
      " |-- Ethnicity: string (nullable = true)\n",
      " |-- Dependents: string (nullable = true)\n",
      " |-- SurveyLength: string (nullable = true)\n",
      " |-- SurveyEase: string (nullable = true)\n",
      "\n"
     ]
    }
   ],
   "source": [
    "df_demo.printSchema()"
   ]
  },
  {
   "cell_type": "code",
   "execution_count": 11,
   "id": "fe43fcc7",
   "metadata": {},
   "outputs": [
    {
     "name": "stdout",
     "output_type": "stream",
     "text": [
      "root\n",
      " |-- Respondent: string (nullable = true)\n",
      " |-- LanguageWorkedWith: string (nullable = true)\n",
      " |-- LanguageDesireNextYear: string (nullable = true)\n",
      " |-- DatabaseWorkedWith: string (nullable = true)\n",
      " |-- DatabaseDesireNextYear: string (nullable = true)\n",
      " |-- PlatformWorkedWith: string (nullable = true)\n",
      " |-- PlatformDesireNextYear: string (nullable = true)\n",
      " |-- WebFrameWorkedWith: string (nullable = true)\n",
      " |-- WebFrameDesireNextYear: string (nullable = true)\n",
      " |-- DevEnviron: string (nullable = true)\n",
      " |-- OpSys: string (nullable = true)\n",
      " |-- Containers: string (nullable = true)\n",
      " |-- BlockchainOrg: string (nullable = true)\n",
      " |-- BlockchainIs: string (nullable = true)\n",
      "\n"
     ]
    }
   ],
   "source": [
    "df_tech.printSchema()"
   ]
  },
  {
   "cell_type": "code",
   "execution_count": 12,
   "id": "4bb054cd",
   "metadata": {},
   "outputs": [
    {
     "data": {
      "text/plain": [
       "11398"
      ]
     },
     "execution_count": 12,
     "metadata": {},
     "output_type": "execute_result"
    }
   ],
   "source": [
    "df_demo.count()"
   ]
  },
  {
   "cell_type": "code",
   "execution_count": 101,
   "id": "a19acbdb",
   "metadata": {},
   "outputs": [],
   "source": [
    "from pyspark.sql.functions import regexp_replace, regexp_extract\n",
    "from pyspark.sql.functions import col\n",
    "from pyspark.sql.functions import when\n",
    "from pyspark.sql.window import Window\n",
    "import pyspark.sql.functions as f"
   ]
  },
  {
   "cell_type": "code",
   "execution_count": 27,
   "id": "7a657efc",
   "metadata": {},
   "outputs": [
    {
     "data": {
      "text/plain": [
       "[Row(Respondent=0, MainBranch=0, Hobbyist=0, OpenSourcer=0, OpenSource=81, Employment=0, Country=0, Student=51, EdLevel=112, UndergradMajor=737, EduOther=164, OrgSize=96, DevType=65, YearsCode=9, Age1stCode=13, YearsCodePro=16, CareerSat=0, JobSat=1, MgrIdiot=493, MgrMoney=497, MgrWant=493, JobSeek=0, LastHireDate=0, LastInt=413, FizzBuzz=37, JobFactors=3, ResumeUpdate=39, CurrencySymbol=0, CurrencyDesc=0, CompTotal=809, CompFreq=206, ConvertedComp=816, WorkWeekHrs=122, WorkPlan=121, WorkChallenge=164, WorkRemote=8, WorkLoc=32, ImpSyn=5, CodeRev=1, CodeRevHrs=2426, UnitTests=29, PurchaseHow=196, PurchaseWhat=38, BetterLife=98, ITperson=35, OffOn=38, SocialMedia=293, Extraversion=20, ScreenName=507, SOVisit1st=325, SOVisitFreq=5, SOVisitTo=1, SOFindAnswer=3, SOTimeSaved=50, SOHowMuchTime=1917, SOAccount=1, SOPartFreq=1128, SOJobs=6, EntTeams=5, SOComm=0, WelcomeChange=85, SONewContent=1965, Age=287, Gender=73, Trans=123, Sexuality=542, Ethnicity=675, Dependents=140, SurveyLength=19, SurveyEase=14)]"
      ]
     },
     "execution_count": 27,
     "metadata": {},
     "output_type": "execute_result"
    }
   ],
   "source": [
    "data_agg = df_demo.agg(*[f.count(f.when(f.isnull(c), c)).alias(c) for c in df_demo.columns])\n",
    "data_agg.collect()"
   ]
  },
  {
   "cell_type": "code",
   "execution_count": 15,
   "id": "abc591d0",
   "metadata": {
    "scrolled": false
   },
   "outputs": [
    {
     "data": {
      "text/plain": [
       "[Row(Country=\"Côte d'Ivoire\"),\n",
       " Row(Country='Paraguay'),\n",
       " Row(Country='The former Yugoslav Republic of Macedonia'),\n",
       " Row(Country='Yemen'),\n",
       " Row(Country='Senegal'),\n",
       " Row(Country='Sweden'),\n",
       " Row(Country='Hong Kong (S.A.R.)'),\n",
       " Row(Country='Republic of Korea'),\n",
       " Row(Country='Philippines'),\n",
       " Row(Country='Singapore'),\n",
       " Row(Country='Malaysia'),\n",
       " Row(Country='Turkey'),\n",
       " Row(Country='Iraq'),\n",
       " Row(Country='Germany'),\n",
       " Row(Country='Afghanistan'),\n",
       " Row(Country='Cambodia'),\n",
       " Row(Country='Jordan'),\n",
       " Row(Country='Rwanda'),\n",
       " Row(Country='Sudan'),\n",
       " Row(Country='France'),\n",
       " Row(Country='Greece'),\n",
       " Row(Country='Sri Lanka'),\n",
       " Row(Country='Taiwan'),\n",
       " Row(Country='Algeria'),\n",
       " Row(Country='Togo'),\n",
       " Row(Country='Slovakia'),\n",
       " Row(Country='Venezuela, Bolivarian Republic of...'),\n",
       " Row(Country='Argentina'),\n",
       " Row(Country='Belgium'),\n",
       " Row(Country='Ecuador'),\n",
       " Row(Country='Qatar'),\n",
       " Row(Country='Albania'),\n",
       " Row(Country='Finland'),\n",
       " Row(Country='Nicaragua'),\n",
       " Row(Country='Ghana'),\n",
       " Row(Country='Myanmar'),\n",
       " Row(Country='Brunei Darussalam'),\n",
       " Row(Country='Peru'),\n",
       " Row(Country='United States'),\n",
       " Row(Country='India'),\n",
       " Row(Country='China'),\n",
       " Row(Country='Belarus'),\n",
       " Row(Country='Other Country (Not Listed Above)'),\n",
       " Row(Country='Kuwait'),\n",
       " Row(Country='Malta'),\n",
       " Row(Country='Timor-Leste'),\n",
       " Row(Country='Somalia'),\n",
       " Row(Country='Chile'),\n",
       " Row(Country='United Republic of Tanzania'),\n",
       " Row(Country='Croatia'),\n",
       " Row(Country='Burundi'),\n",
       " Row(Country='Nigeria'),\n",
       " Row(Country='Bolivia'),\n",
       " Row(Country='Italy'),\n",
       " Row(Country='Lithuania'),\n",
       " Row(Country='Norway'),\n",
       " Row(Country='Turkmenistan'),\n",
       " Row(Country='Spain'),\n",
       " Row(Country='Cuba'),\n",
       " Row(Country='Denmark'),\n",
       " Row(Country='Bangladesh'),\n",
       " Row(Country='Iran'),\n",
       " Row(Country='Congo, Republic of the...'),\n",
       " Row(Country='Russian Federation'),\n",
       " Row(Country='Ireland'),\n",
       " Row(Country='Liechtenstein'),\n",
       " Row(Country='Thailand'),\n",
       " Row(Country='Swaziland'),\n",
       " Row(Country='Monaco'),\n",
       " Row(Country='Morocco'),\n",
       " Row(Country='Cape Verde'),\n",
       " Row(Country='Panama'),\n",
       " Row(Country='Ukraine'),\n",
       " Row(Country='Israel'),\n",
       " Row(Country='Iceland'),\n",
       " Row(Country='South Korea'),\n",
       " Row(Country='Cyprus'),\n",
       " Row(Country='Uruguay'),\n",
       " Row(Country='Mexico'),\n",
       " Row(Country='Estonia'),\n",
       " Row(Country='Georgia'),\n",
       " Row(Country='Zimbabwe'),\n",
       " Row(Country='Montenegro'),\n",
       " Row(Country='Indonesia'),\n",
       " Row(Country='Libyan Arab Jamahiriya'),\n",
       " Row(Country='Guatemala'),\n",
       " Row(Country='Mongolia'),\n",
       " Row(Country='Azerbaijan'),\n",
       " Row(Country='Armenia'),\n",
       " Row(Country='Tunisia'),\n",
       " Row(Country='Honduras'),\n",
       " Row(Country='Saudi Arabia'),\n",
       " Row(Country='Uganda'),\n",
       " Row(Country='Switzerland'),\n",
       " Row(Country='Ethiopia'),\n",
       " Row(Country='Latvia'),\n",
       " Row(Country='Jamaica'),\n",
       " Row(Country='United Arab Emirates'),\n",
       " Row(Country='Canada'),\n",
       " Row(Country='Uzbekistan'),\n",
       " Row(Country='Kyrgyzstan'),\n",
       " Row(Country='Czech Republic'),\n",
       " Row(Country='Mozambique'),\n",
       " Row(Country='Brazil'),\n",
       " Row(Country='Kenya'),\n",
       " Row(Country='Lebanon'),\n",
       " Row(Country='Slovenia'),\n",
       " Row(Country='Dominican Republic'),\n",
       " Row(Country='Viet Nam'),\n",
       " Row(Country='Japan'),\n",
       " Row(Country='Luxembourg'),\n",
       " Row(Country='New Zealand'),\n",
       " Row(Country='Bosnia and Herzegovina'),\n",
       " Row(Country='Poland'),\n",
       " Row(Country='Portugal'),\n",
       " Row(Country='Republic of Moldova'),\n",
       " Row(Country='Australia'),\n",
       " Row(Country='Cameroon'),\n",
       " Row(Country='Romania'),\n",
       " Row(Country='Bulgaria'),\n",
       " Row(Country='Austria'),\n",
       " Row(Country='Nepal'),\n",
       " Row(Country='Egypt'),\n",
       " Row(Country='Costa Rica'),\n",
       " Row(Country='El Salvador'),\n",
       " Row(Country='Serbia'),\n",
       " Row(Country='South Africa'),\n",
       " Row(Country='Bahrain'),\n",
       " Row(Country='Colombia'),\n",
       " Row(Country='Hungary'),\n",
       " Row(Country='Pakistan'),\n",
       " Row(Country='Mauritius'),\n",
       " Row(Country='United Kingdom'),\n",
       " Row(Country='Syrian Arab Republic'),\n",
       " Row(Country='Netherlands')]"
      ]
     },
     "execution_count": 15,
     "metadata": {},
     "output_type": "execute_result"
    }
   ],
   "source": [
    "df_demo.select('Country').distinct().collect()"
   ]
  },
  {
   "cell_type": "markdown",
   "id": "93f53f92",
   "metadata": {},
   "source": [
    "# Start Seeking Answer for Data Science Questions"
   ]
  },
  {
   "cell_type": "markdown",
   "id": "0873b074",
   "metadata": {},
   "source": [
    "QUESTION 1: WHAT IS THE SUMMARY OF YEARS RESPONDENTS DO CODING?"
   ]
  },
  {
   "cell_type": "code",
   "execution_count": 40,
   "id": "c8d0f7bc",
   "metadata": {},
   "outputs": [
    {
     "name": "stdout",
     "output_type": "stream",
     "text": [
      "+-------+-----------------+\n",
      "|summary|        YearsCode|\n",
      "+-------+-----------------+\n",
      "|  count|            11389|\n",
      "|   mean|12.38311345646438|\n",
      "| stddev| 8.10850398692267|\n",
      "|    min|                1|\n",
      "|    max| Less than 1 year|\n",
      "+-------+-----------------+\n",
      "\n"
     ]
    }
   ],
   "source": [
    "df_demo.describe('YearsCode').show()"
   ]
  },
  {
   "cell_type": "markdown",
   "id": "6831c706",
   "metadata": {},
   "source": [
    "The result seems not right because of the string value of the column"
   ]
  },
  {
   "cell_type": "code",
   "execution_count": 48,
   "id": "44c81701",
   "metadata": {},
   "outputs": [
    {
     "data": {
      "text/plain": [
       "[Row(YearsCode='7'),\n",
       " Row(YearsCode='15'),\n",
       " Row(YearsCode='11'),\n",
       " Row(YearsCode='29'),\n",
       " Row(YearsCode='42'),\n",
       " Row(YearsCode='3'),\n",
       " Row(YearsCode='30'),\n",
       " Row(YearsCode='34'),\n",
       " Row(YearsCode='8'),\n",
       " Row(YearsCode='Less than 1 year'),\n",
       " Row(YearsCode='28'),\n",
       " Row(YearsCode='22'),\n",
       " Row(YearsCode='35'),\n",
       " Row(YearsCode='16'),\n",
       " Row(YearsCode='47'),\n",
       " Row(YearsCode=None),\n",
       " Row(YearsCode='43'),\n",
       " Row(YearsCode='5'),\n",
       " Row(YearsCode='31'),\n",
       " Row(YearsCode='18'),\n",
       " Row(YearsCode='27'),\n",
       " Row(YearsCode='17'),\n",
       " Row(YearsCode='26'),\n",
       " Row(YearsCode='46'),\n",
       " Row(YearsCode='6'),\n",
       " Row(YearsCode='19'),\n",
       " Row(YearsCode='41'),\n",
       " Row(YearsCode='23'),\n",
       " Row(YearsCode='40'),\n",
       " Row(YearsCode='38'),\n",
       " Row(YearsCode='25'),\n",
       " Row(YearsCode='44'),\n",
       " Row(YearsCode='33'),\n",
       " Row(YearsCode='48'),\n",
       " Row(YearsCode='9'),\n",
       " Row(YearsCode='24'),\n",
       " Row(YearsCode='32'),\n",
       " Row(YearsCode='1'),\n",
       " Row(YearsCode='20'),\n",
       " Row(YearsCode='36'),\n",
       " Row(YearsCode='10'),\n",
       " Row(YearsCode='37'),\n",
       " Row(YearsCode='49'),\n",
       " Row(YearsCode='4'),\n",
       " Row(YearsCode='39'),\n",
       " Row(YearsCode='12'),\n",
       " Row(YearsCode='13'),\n",
       " Row(YearsCode='14'),\n",
       " Row(YearsCode='21'),\n",
       " Row(YearsCode='2'),\n",
       " Row(YearsCode='50'),\n",
       " Row(YearsCode='45')]"
      ]
     },
     "execution_count": 48,
     "metadata": {},
     "output_type": "execute_result"
    }
   ],
   "source": [
    "df_demo.select('YearsCode').distinct().collect()"
   ]
  },
  {
   "cell_type": "markdown",
   "id": "eec6f6ba",
   "metadata": {},
   "source": [
    "Cleaning the Column and yield new cleaned column"
   ]
  },
  {
   "cell_type": "code",
   "execution_count": 51,
   "id": "179165e1",
   "metadata": {},
   "outputs": [
    {
     "data": {
      "text/plain": [
       "[Row(YearsCode_cleaned=31),\n",
       " Row(YearsCode_cleaned=34),\n",
       " Row(YearsCode_cleaned=28),\n",
       " Row(YearsCode_cleaned=26),\n",
       " Row(YearsCode_cleaned=27),\n",
       " Row(YearsCode_cleaned=44),\n",
       " Row(YearsCode_cleaned=12),\n",
       " Row(YearsCode_cleaned=22),\n",
       " Row(YearsCode_cleaned=47),\n",
       " Row(YearsCode_cleaned=1),\n",
       " Row(YearsCode_cleaned=13),\n",
       " Row(YearsCode_cleaned=6),\n",
       " Row(YearsCode_cleaned=16),\n",
       " Row(YearsCode_cleaned=3),\n",
       " Row(YearsCode_cleaned=20),\n",
       " Row(YearsCode_cleaned=40),\n",
       " Row(YearsCode_cleaned=48),\n",
       " Row(YearsCode_cleaned=5),\n",
       " Row(YearsCode_cleaned=19),\n",
       " Row(YearsCode_cleaned=41),\n",
       " Row(YearsCode_cleaned=15),\n",
       " Row(YearsCode_cleaned=43),\n",
       " Row(YearsCode_cleaned=37),\n",
       " Row(YearsCode_cleaned=17),\n",
       " Row(YearsCode_cleaned=9),\n",
       " Row(YearsCode_cleaned=35),\n",
       " Row(YearsCode_cleaned=4),\n",
       " Row(YearsCode_cleaned=8),\n",
       " Row(YearsCode_cleaned=23),\n",
       " Row(YearsCode_cleaned=39),\n",
       " Row(YearsCode_cleaned=49),\n",
       " Row(YearsCode_cleaned=7),\n",
       " Row(YearsCode_cleaned=10),\n",
       " Row(YearsCode_cleaned=50),\n",
       " Row(YearsCode_cleaned=45),\n",
       " Row(YearsCode_cleaned=38),\n",
       " Row(YearsCode_cleaned=25),\n",
       " Row(YearsCode_cleaned=24),\n",
       " Row(YearsCode_cleaned=29),\n",
       " Row(YearsCode_cleaned=21),\n",
       " Row(YearsCode_cleaned=32),\n",
       " Row(YearsCode_cleaned=11),\n",
       " Row(YearsCode_cleaned=33),\n",
       " Row(YearsCode_cleaned=14),\n",
       " Row(YearsCode_cleaned=42),\n",
       " Row(YearsCode_cleaned=2),\n",
       " Row(YearsCode_cleaned=30),\n",
       " Row(YearsCode_cleaned=46),\n",
       " Row(YearsCode_cleaned=0),\n",
       " Row(YearsCode_cleaned=18),\n",
       " Row(YearsCode_cleaned=36)]"
      ]
     },
     "execution_count": 51,
     "metadata": {},
     "output_type": "execute_result"
    }
   ],
   "source": [
    "regexstring = 'None|Less than 1 year'\n",
    "df_demo = df_demo.withColumn('YearsCode_cleaned', regexp_replace(col('YearsCode'), regexstring, '0'))\n",
    "df_demo = df_demo.na.fill('0', ['YearsCode_cleaned'])\n",
    "df_demo = df_demo.withColumn('YearsCode_cleaned', df_demo.YearsCode_cleaned.cast('int'))\n",
    "df_demo.select('YearsCode_cleaned').distinct().collect()"
   ]
  },
  {
   "cell_type": "markdown",
   "id": "15db548b",
   "metadata": {},
   "source": [
    "ANSWER FOR QUESTION 1:"
   ]
  },
  {
   "cell_type": "code",
   "execution_count": 52,
   "id": "11eb9bc0",
   "metadata": {},
   "outputs": [
    {
     "name": "stdout",
     "output_type": "stream",
     "text": [
      "+-------+------------------+\n",
      "|summary| YearsCode_cleaned|\n",
      "+-------+------------------+\n",
      "|  count|             11398|\n",
      "|   mean|12.352693454992103|\n",
      "| stddev|  8.12170612662182|\n",
      "|    min|                 0|\n",
      "|    max|                50|\n",
      "+-------+------------------+\n",
      "\n"
     ]
    }
   ],
   "source": [
    "df_demo.describe('YearsCode_cleaned').show()"
   ]
  },
  {
   "cell_type": "markdown",
   "id": "bd9408d8",
   "metadata": {},
   "source": [
    "QUESTION 2: WHAT IS THE SATISFACTION OF RESPONDENTS IN THEIR CAREER?"
   ]
  },
  {
   "cell_type": "code",
   "execution_count": 58,
   "id": "3d960764",
   "metadata": {},
   "outputs": [
    {
     "data": {
      "text/plain": [
       "[Row(CareerSat='Very dissatisfied'),\n",
       " Row(CareerSat='Very satisfied'),\n",
       " Row(CareerSat='Slightly satisfied'),\n",
       " Row(CareerSat='Slightly dissatisfied'),\n",
       " Row(CareerSat='Neither satisfied nor dissatisfied')]"
      ]
     },
     "execution_count": 58,
     "metadata": {},
     "output_type": "execute_result"
    }
   ],
   "source": [
    "df_demo.select('CareerSat').distinct().collect()"
   ]
  },
  {
   "cell_type": "code",
   "execution_count": 60,
   "id": "debcada4",
   "metadata": {},
   "outputs": [
    {
     "name": "stdout",
     "output_type": "stream",
     "text": [
      "+--------------------+-----+\n",
      "|           CareerSat|count|\n",
      "+--------------------+-----+\n",
      "|   Very dissatisfied|  504|\n",
      "|      Very satisfied| 4777|\n",
      "|  Slightly satisfied| 4061|\n",
      "|Slightly dissatis...| 1122|\n",
      "|Neither satisfied...|  934|\n",
      "+--------------------+-----+\n",
      "\n"
     ]
    }
   ],
   "source": [
    "df_demo.groupby('CareerSat').count().show()"
   ]
  },
  {
   "cell_type": "code",
   "execution_count": 64,
   "id": "39b1313b",
   "metadata": {},
   "outputs": [
    {
     "data": {
      "image/png": "[encoded data removed]",
      "text/plain": [
       "<Figure size 432x288 with 1 Axes>"
      ]
     },
     "metadata": {
      "needs_background": "light"
     },
     "output_type": "display_data"
    }
   ],
   "source": [
    "df_CareerSat = df_demo.groupby('CareerSat').count().toPandas()\n",
    "df_CareerSat.plot.bar(x=\"CareerSat\", y=\"count\", title=\"Developers Career Satisfaction\")\n",
    "plot.show()"
   ]
  },
  {
   "cell_type": "markdown",
   "id": "d07332c7",
   "metadata": {},
   "source": [
    "QUESTION 3: HOW MANY PEOPLE THAT ANSWER THE SURVEY ARE FROM MALAYSIA?"
   ]
  },
  {
   "cell_type": "code",
   "execution_count": 25,
   "id": "8c80eccd",
   "metadata": {},
   "outputs": [
    {
     "data": {
      "text/plain": [
       "42"
      ]
     },
     "execution_count": 25,
     "metadata": {},
     "output_type": "execute_result"
    }
   ],
   "source": [
    "df_demo.select('Respondent').where(df_demo.Country == \"Malaysia\").distinct().count()"
   ]
  },
  {
   "cell_type": "markdown",
   "id": "774d5783",
   "metadata": {},
   "source": [
    "QUESTION 4: WHAT IS THE SUMMARY OF YEARS THAT RESPONDENTS FROM MALAYSIA DO CODING?"
   ]
  },
  {
   "cell_type": "code",
   "execution_count": 55,
   "id": "159bddf0",
   "metadata": {},
   "outputs": [
    {
     "name": "stdout",
     "output_type": "stream",
     "text": [
      "+-------+-----------------+\n",
      "|summary|YearsCode_cleaned|\n",
      "+-------+-----------------+\n",
      "|  count|               42|\n",
      "|   mean|9.476190476190476|\n",
      "| stddev|4.939823711864355|\n",
      "|    min|                1|\n",
      "|    max|               22|\n",
      "+-------+-----------------+\n",
      "\n"
     ]
    }
   ],
   "source": [
    "df_demo.where(df_demo.Country == 'Malaysia').describe('YearsCode_cleaned').show()"
   ]
  },
  {
   "cell_type": "markdown",
   "id": "600b7c70",
   "metadata": {},
   "source": [
    "QUESTION 5: DO YOU CONSIDER MALAYSIAN DEVELOPER AS OVERWORK?"
   ]
  },
  {
   "cell_type": "markdown",
   "id": "dfe06e92",
   "metadata": {},
   "source": [
    "First we need to extract the summary of weekly working hours for the whole datasets."
   ]
  },
  {
   "cell_type": "code",
   "execution_count": 76,
   "id": "b4d4ead1",
   "metadata": {},
   "outputs": [
    {
     "name": "stdout",
     "output_type": "stream",
     "text": [
      "+-------+------------------+\n",
      "|summary|       WorkWeekHrs|\n",
      "+-------+------------------+\n",
      "|  count|             11398|\n",
      "|   mean|  41.5964204246359|\n",
      "| stddev|24.922791250785306|\n",
      "|    min|                 0|\n",
      "|    max|              1012|\n",
      "+-------+------------------+\n",
      "\n"
     ]
    }
   ],
   "source": [
    "df_demo = df_demo.withColumn('WorkWeekHrs', df_demo.WorkWeekHrs.cast('int'))\n",
    "df_demo = df_demo.na.fill(0, ['WorkWeekHrs'])\n",
    "df_demo.describe('WorkWeekHrs').show()"
   ]
  },
  {
   "cell_type": "markdown",
   "id": "5c37bd10",
   "metadata": {},
   "source": [
    "Then we compare them with weekly working hours for Malaysian"
   ]
  },
  {
   "cell_type": "code",
   "execution_count": 80,
   "id": "af08cd5f",
   "metadata": {},
   "outputs": [
    {
     "name": "stdout",
     "output_type": "stream",
     "text": [
      "+-------+------------------+\n",
      "|summary|       WorkWeekHrs|\n",
      "+-------+------------------+\n",
      "|  count|                42|\n",
      "|   mean|38.166666666666664|\n",
      "| stddev| 12.33459672720451|\n",
      "|    min|                 0|\n",
      "|    max|                56|\n",
      "+-------+------------------+\n",
      "\n"
     ]
    }
   ],
   "source": [
    "df_demo.where(df_demo.Country == 'Malaysia').describe('WorkWeekHrs').show()"
   ]
  },
  {
   "cell_type": "markdown",
   "id": "a1afadfa",
   "metadata": {},
   "source": [
    "Answer: MALAYSIAN DEVELOPERS ARE NOT CONSIDERED OVERWORK SINCE THE MEAN OF HOURS WORKING WEEKLY IS LESS THAN THE MEAN OF THE WHOLE WORLD."
   ]
  },
  {
   "cell_type": "markdown",
   "id": "7a1c4d75",
   "metadata": {},
   "source": [
    "QUESTION 6: WHAT IS THE MOST FAMOUS PROGRAMMING LANGUAGE USED AMONG MALAYSIAN DEVELOPER?"
   ]
  },
  {
   "cell_type": "markdown",
   "id": "eaf325c9",
   "metadata": {},
   "source": [
    "Collect respondent from Malaysia"
   ]
  },
  {
   "cell_type": "code",
   "execution_count": 86,
   "id": "2f911d13",
   "metadata": {},
   "outputs": [
    {
     "data": {
      "text/plain": [
       "[Row(Respondent='14899'),\n",
       " Row(Respondent='14361'),\n",
       " Row(Respondent='16626'),\n",
       " Row(Respondent='18882'),\n",
       " Row(Respondent='786'),\n",
       " Row(Respondent='3720'),\n",
       " Row(Respondent='6100'),\n",
       " Row(Respondent='13580'),\n",
       " Row(Respondent='1185'),\n",
       " Row(Respondent='2805'),\n",
       " Row(Respondent='12904'),\n",
       " Row(Respondent='19599'),\n",
       " Row(Respondent='8334'),\n",
       " Row(Respondent='19257'),\n",
       " Row(Respondent='16353'),\n",
       " Row(Respondent='10797'),\n",
       " Row(Respondent='10601'),\n",
       " Row(Respondent='2187'),\n",
       " Row(Respondent='9311'),\n",
       " Row(Respondent='10531'),\n",
       " Row(Respondent='11266'),\n",
       " Row(Respondent='4599'),\n",
       " Row(Respondent='21206'),\n",
       " Row(Respondent='5167'),\n",
       " Row(Respondent='16213'),\n",
       " Row(Respondent='9488'),\n",
       " Row(Respondent='23575'),\n",
       " Row(Respondent='8736'),\n",
       " Row(Respondent='17243'),\n",
       " Row(Respondent='21479'),\n",
       " Row(Respondent='5958'),\n",
       " Row(Respondent='9574'),\n",
       " Row(Respondent='769'),\n",
       " Row(Respondent='21822'),\n",
       " Row(Respondent='14646'),\n",
       " Row(Respondent='18633'),\n",
       " Row(Respondent='8670'),\n",
       " Row(Respondent='5281'),\n",
       " Row(Respondent='14206'),\n",
       " Row(Respondent='15485'),\n",
       " Row(Respondent='11767'),\n",
       " Row(Respondent='24618')]"
      ]
     },
     "execution_count": 86,
     "metadata": {},
     "output_type": "execute_result"
    }
   ],
   "source": [
    "dev_my = df_demo.select('Respondent').where(df_demo.Country == \"Malaysia\").distinct().collect()\n",
    "dev_my"
   ]
  },
  {
   "cell_type": "markdown",
   "id": "ef158a18",
   "metadata": {},
   "source": [
    "Check language used in the survey"
   ]
  },
  {
   "cell_type": "code",
   "execution_count": 83,
   "id": "412bbd8a",
   "metadata": {},
   "outputs": [
    {
     "data": {
      "text/plain": [
       "[Row(LanguageWorkedWith='C#'),\n",
       " Row(LanguageWorkedWith='VBA'),\n",
       " Row(LanguageWorkedWith='Rust'),\n",
       " Row(LanguageWorkedWith='JavaScript'),\n",
       " Row(LanguageWorkedWith=None),\n",
       " Row(LanguageWorkedWith='Erlang'),\n",
       " Row(LanguageWorkedWith='C++'),\n",
       " Row(LanguageWorkedWith='F#'),\n",
       " Row(LanguageWorkedWith='Dart'),\n",
       " Row(LanguageWorkedWith='C'),\n",
       " Row(LanguageWorkedWith='Objective-C'),\n",
       " Row(LanguageWorkedWith='Swift'),\n",
       " Row(LanguageWorkedWith='TypeScript'),\n",
       " Row(LanguageWorkedWith='Bash/Shell/PowerShell'),\n",
       " Row(LanguageWorkedWith='Elixir'),\n",
       " Row(LanguageWorkedWith='R'),\n",
       " Row(LanguageWorkedWith='Scala'),\n",
       " Row(LanguageWorkedWith='Clojure'),\n",
       " Row(LanguageWorkedWith='PHP'),\n",
       " Row(LanguageWorkedWith='Kotlin'),\n",
       " Row(LanguageWorkedWith='SQL'),\n",
       " Row(LanguageWorkedWith='Go'),\n",
       " Row(LanguageWorkedWith='WebAssembly'),\n",
       " Row(LanguageWorkedWith='Ruby'),\n",
       " Row(LanguageWorkedWith='Python'),\n",
       " Row(LanguageWorkedWith='HTML/CSS'),\n",
       " Row(LanguageWorkedWith='Assembly'),\n",
       " Row(LanguageWorkedWith='Java'),\n",
       " Row(LanguageWorkedWith='Other(s):')]"
      ]
     },
     "execution_count": 83,
     "metadata": {},
     "output_type": "execute_result"
    }
   ],
   "source": [
    "df_tech.select('LanguageWorkedWith').distinct().collect()"
   ]
  },
  {
   "cell_type": "markdown",
   "id": "127ec86a",
   "metadata": {},
   "source": [
    "Convert the respondent into List"
   ]
  },
  {
   "cell_type": "code",
   "execution_count": 89,
   "id": "f18b7772",
   "metadata": {},
   "outputs": [
    {
     "data": {
      "text/plain": [
       "['14899',\n",
       " '14361',\n",
       " '16626',\n",
       " '18882',\n",
       " '786',\n",
       " '3720',\n",
       " '6100',\n",
       " '13580',\n",
       " '1185',\n",
       " '2805',\n",
       " '12904',\n",
       " '19599',\n",
       " '8334',\n",
       " '19257',\n",
       " '16353',\n",
       " '10797',\n",
       " '10601',\n",
       " '2187',\n",
       " '9311',\n",
       " '10531',\n",
       " '11266',\n",
       " '4599',\n",
       " '21206',\n",
       " '5167',\n",
       " '16213',\n",
       " '9488',\n",
       " '23575',\n",
       " '8736',\n",
       " '17243',\n",
       " '21479',\n",
       " '5958',\n",
       " '9574',\n",
       " '769',\n",
       " '21822',\n",
       " '14646',\n",
       " '18633',\n",
       " '8670',\n",
       " '5281',\n",
       " '14206',\n",
       " '15485',\n",
       " '11767',\n",
       " '24618']"
      ]
     },
     "execution_count": 89,
     "metadata": {},
     "output_type": "execute_result"
    }
   ],
   "source": [
    "listdev_my = [row.Respondent for row in dev_my]\n",
    "listdev_my"
   ]
  },
  {
   "cell_type": "markdown",
   "id": "99db45f7",
   "metadata": {},
   "source": [
    "Filter only those in list to a new table"
   ]
  },
  {
   "cell_type": "code",
   "execution_count": 93,
   "id": "2cf700a1",
   "metadata": {},
   "outputs": [
    {
     "data": {
      "text/plain": [
       "42"
      ]
     },
     "execution_count": 93,
     "metadata": {},
     "output_type": "execute_result"
    }
   ],
   "source": [
    "df_tech_my = df_tech.filter(df_tech.Respondent.isin(listdev_my))\n",
    "df_tech_my.select('Respondent').distinct().count()"
   ]
  },
  {
   "cell_type": "markdown",
   "id": "ca8b07b9",
   "metadata": {},
   "source": [
    "Group by language and count for each language"
   ]
  },
  {
   "cell_type": "code",
   "execution_count": 107,
   "id": "1dc62e68",
   "metadata": {},
   "outputs": [
    {
     "name": "stdout",
     "output_type": "stream",
     "text": [
      "+--------------------+-----+\n",
      "|  LanguageWorkedWith|count|\n",
      "+--------------------+-----+\n",
      "|                  C#|    8|\n",
      "|                 VBA|    5|\n",
      "|          JavaScript|   34|\n",
      "|                null|   63|\n",
      "|                 C++|    6|\n",
      "|                Dart|    3|\n",
      "|                   C|    7|\n",
      "|         Objective-C|    2|\n",
      "|               Swift|    2|\n",
      "|          TypeScript|    9|\n",
      "|Bash/Shell/PowerS...|   12|\n",
      "|                   R|    6|\n",
      "|               Scala|    1|\n",
      "|                 PHP|   20|\n",
      "|              Kotlin|    3|\n",
      "|                 SQL|   22|\n",
      "|                  Go|    8|\n",
      "|                Ruby|    3|\n",
      "|              Python|   14|\n",
      "|            HTML/CSS|   34|\n",
      "+--------------------+-----+\n",
      "only showing top 20 rows\n",
      "\n"
     ]
    }
   ],
   "source": [
    "language_rank = df_tech_my.groupby('LanguageWorkedWith').count()\n",
    "language_rank.show()"
   ]
  },
  {
   "cell_type": "markdown",
   "id": "a16ad166",
   "metadata": {},
   "source": [
    "Perform Cleaning and convert it to pandas for visualization"
   ]
  },
  {
   "cell_type": "code",
   "execution_count": 108,
   "id": "3c3fb40f",
   "metadata": {},
   "outputs": [
    {
     "data": {
      "text/html": [
       "<div>\n",
       "<style scoped>\n",
       "    .dataframe tbody tr th:only-of-type {\n",
       "        vertical-align: middle;\n",
       "    }\n",
       "\n",
       "    .dataframe tbody tr th {\n",
       "        vertical-align: top;\n",
       "    }\n",
       "\n",
       "    .dataframe thead th {\n",
       "        text-align: right;\n",
       "    }\n",
       "</style>\n",
       "<table border=\"1\" class=\"dataframe\">\n",
       "  <thead>\n",
       "    <tr style=\"text-align: right;\">\n",
       "      <th></th>\n",
       "      <th>LanguageWorkedWith</th>\n",
       "      <th>count</th>\n",
       "      <th>percentage</th>\n",
       "    </tr>\n",
       "  </thead>\n",
       "  <tbody>\n",
       "    <tr>\n",
       "      <th>0</th>\n",
       "      <td>C#</td>\n",
       "      <td>8</td>\n",
       "      <td>3.571429</td>\n",
       "    </tr>\n",
       "    <tr>\n",
       "      <th>1</th>\n",
       "      <td>VBA</td>\n",
       "      <td>5</td>\n",
       "      <td>2.232143</td>\n",
       "    </tr>\n",
       "    <tr>\n",
       "      <th>2</th>\n",
       "      <td>JavaScript</td>\n",
       "      <td>34</td>\n",
       "      <td>15.178571</td>\n",
       "    </tr>\n",
       "    <tr>\n",
       "      <th>3</th>\n",
       "      <td>C++</td>\n",
       "      <td>6</td>\n",
       "      <td>2.678571</td>\n",
       "    </tr>\n",
       "    <tr>\n",
       "      <th>4</th>\n",
       "      <td>Dart</td>\n",
       "      <td>3</td>\n",
       "      <td>1.339286</td>\n",
       "    </tr>\n",
       "    <tr>\n",
       "      <th>5</th>\n",
       "      <td>C</td>\n",
       "      <td>7</td>\n",
       "      <td>3.125000</td>\n",
       "    </tr>\n",
       "    <tr>\n",
       "      <th>6</th>\n",
       "      <td>Objective-C</td>\n",
       "      <td>2</td>\n",
       "      <td>0.892857</td>\n",
       "    </tr>\n",
       "    <tr>\n",
       "      <th>7</th>\n",
       "      <td>Swift</td>\n",
       "      <td>2</td>\n",
       "      <td>0.892857</td>\n",
       "    </tr>\n",
       "    <tr>\n",
       "      <th>8</th>\n",
       "      <td>TypeScript</td>\n",
       "      <td>9</td>\n",
       "      <td>4.017857</td>\n",
       "    </tr>\n",
       "    <tr>\n",
       "      <th>9</th>\n",
       "      <td>Bash/Shell/PowerShell</td>\n",
       "      <td>12</td>\n",
       "      <td>5.357143</td>\n",
       "    </tr>\n",
       "    <tr>\n",
       "      <th>10</th>\n",
       "      <td>R</td>\n",
       "      <td>6</td>\n",
       "      <td>2.678571</td>\n",
       "    </tr>\n",
       "    <tr>\n",
       "      <th>11</th>\n",
       "      <td>Scala</td>\n",
       "      <td>1</td>\n",
       "      <td>0.446429</td>\n",
       "    </tr>\n",
       "    <tr>\n",
       "      <th>12</th>\n",
       "      <td>PHP</td>\n",
       "      <td>20</td>\n",
       "      <td>8.928571</td>\n",
       "    </tr>\n",
       "    <tr>\n",
       "      <th>13</th>\n",
       "      <td>Kotlin</td>\n",
       "      <td>3</td>\n",
       "      <td>1.339286</td>\n",
       "    </tr>\n",
       "    <tr>\n",
       "      <th>14</th>\n",
       "      <td>SQL</td>\n",
       "      <td>22</td>\n",
       "      <td>9.821429</td>\n",
       "    </tr>\n",
       "    <tr>\n",
       "      <th>15</th>\n",
       "      <td>Go</td>\n",
       "      <td>8</td>\n",
       "      <td>3.571429</td>\n",
       "    </tr>\n",
       "    <tr>\n",
       "      <th>16</th>\n",
       "      <td>Ruby</td>\n",
       "      <td>3</td>\n",
       "      <td>1.339286</td>\n",
       "    </tr>\n",
       "    <tr>\n",
       "      <th>17</th>\n",
       "      <td>Python</td>\n",
       "      <td>14</td>\n",
       "      <td>6.250000</td>\n",
       "    </tr>\n",
       "    <tr>\n",
       "      <th>18</th>\n",
       "      <td>HTML/CSS</td>\n",
       "      <td>34</td>\n",
       "      <td>15.178571</td>\n",
       "    </tr>\n",
       "    <tr>\n",
       "      <th>19</th>\n",
       "      <td>Assembly</td>\n",
       "      <td>5</td>\n",
       "      <td>2.232143</td>\n",
       "    </tr>\n",
       "    <tr>\n",
       "      <th>20</th>\n",
       "      <td>Java</td>\n",
       "      <td>18</td>\n",
       "      <td>8.035714</td>\n",
       "    </tr>\n",
       "    <tr>\n",
       "      <th>21</th>\n",
       "      <td>Other(s):</td>\n",
       "      <td>2</td>\n",
       "      <td>0.892857</td>\n",
       "    </tr>\n",
       "  </tbody>\n",
       "</table>\n",
       "</div>"
      ],
      "text/plain": [
       "       LanguageWorkedWith  count  percentage\n",
       "0                      C#      8    3.571429\n",
       "1                     VBA      5    2.232143\n",
       "2              JavaScript     34   15.178571\n",
       "3                     C++      6    2.678571\n",
       "4                    Dart      3    1.339286\n",
       "5                       C      7    3.125000\n",
       "6             Objective-C      2    0.892857\n",
       "7                   Swift      2    0.892857\n",
       "8              TypeScript      9    4.017857\n",
       "9   Bash/Shell/PowerShell     12    5.357143\n",
       "10                      R      6    2.678571\n",
       "11                  Scala      1    0.446429\n",
       "12                    PHP     20    8.928571\n",
       "13                 Kotlin      3    1.339286\n",
       "14                    SQL     22    9.821429\n",
       "15                     Go      8    3.571429\n",
       "16                   Ruby      3    1.339286\n",
       "17                 Python     14    6.250000\n",
       "18               HTML/CSS     34   15.178571\n",
       "19               Assembly      5    2.232143\n",
       "20                   Java     18    8.035714\n",
       "21              Other(s):      2    0.892857"
      ]
     },
     "execution_count": 108,
     "metadata": {},
     "output_type": "execute_result"
    }
   ],
   "source": [
    "language_rank = language_rank.where(language_rank.LanguageWorkedWith != 'null')\n",
    "language_rank = language_rank.withColumn('percentage',f.col('count')/f.sum('count').over(Window.partitionBy())*100)\n",
    "language_rank = language_rank.toPandas()\n",
    "language_rank"
   ]
  },
  {
   "cell_type": "code",
   "execution_count": 114,
   "id": "b08eb445",
   "metadata": {},
   "outputs": [
    {
     "data": {
      "image/png": "[encoded data removed]",
      "text/plain": [
       "<Figure size 432x288 with 1 Axes>"
      ]
     },
     "metadata": {},
     "output_type": "display_data"
    }
   ],
   "source": [
    "pie_chart = language_rank.plot.pie(y=\"percentage\", labels = language_rank['LanguageWorkedWith'].tolist(), title=\"Programming Language Used in Malaysia\")\n",
    "pie_chart.get_legend().remove()\n",
    "plot.show()"
   ]
  },
  {
   "cell_type": "markdown",
   "id": "cfc933d1",
   "metadata": {},
   "source": [
    "Answer: THE MOST FAMOUS PROGRAMMING LANGUAGE IN MALAYSIA ARE HTML/CSS AND JAVASCRIPT."
   ]
  }
 ],
 "metadata": {
  "kernelspec": {
   "display_name": "Python 3",
   "language": "python",
   "name": "python3"
  },
  "language_info": {
   "codemirror_mode": {
    "name": "ipython",
    "version": 3
   },
   "file_extension": ".py",
   "mimetype": "text/x-python",
   "name": "python",
   "nbconvert_exporter": "python",
   "pygments_lexer": "ipython3",
   "version": "3.8.8"
  }
 },
 "nbformat": 4,
 "nbformat_minor": 5
}
